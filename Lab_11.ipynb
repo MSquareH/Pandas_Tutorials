{
 "cells": [
  {
   "cell_type": "markdown",
   "metadata": {},
   "source": [
    "## Changing Datatypes"
   ]
  },
  {
   "cell_type": "code",
   "execution_count": 1,
   "metadata": {},
   "outputs": [],
   "source": [
    "import pandas as pd\n",
    "import os"
   ]
  },
  {
   "cell_type": "code",
   "execution_count": 2,
   "metadata": {},
   "outputs": [],
   "source": [
    "os.chdir('C:/Users/Moiz_Ali_Abedin/Desktop/Files of Pandas')\n",
    "ds=pd.read_csv('Cricket.csv')"
   ]
  },
  {
   "cell_type": "code",
   "execution_count": 3,
   "metadata": {},
   "outputs": [
    {
     "data": {
      "text/html": [
       "<div>\n",
       "<style scoped>\n",
       "    .dataframe tbody tr th:only-of-type {\n",
       "        vertical-align: middle;\n",
       "    }\n",
       "\n",
       "    .dataframe tbody tr th {\n",
       "        vertical-align: top;\n",
       "    }\n",
       "\n",
       "    .dataframe thead th {\n",
       "        text-align: right;\n",
       "    }\n",
       "</style>\n",
       "<table border=\"1\" class=\"dataframe\">\n",
       "  <thead>\n",
       "    <tr style=\"text-align: right;\">\n",
       "      <th></th>\n",
       "      <th>ConsecutiveWins</th>\n",
       "      <th>Season</th>\n",
       "      <th>Opposition_Others</th>\n",
       "      <th>Country</th>\n",
       "      <th>Ground</th>\n",
       "      <th>Home_Ground</th>\n",
       "      <th>Day_Night</th>\n",
       "      <th>PitchReport</th>\n",
       "      <th>BattingFirst</th>\n",
       "      <th>Combination Changed</th>\n",
       "      <th>Pak_Win</th>\n",
       "    </tr>\n",
       "  </thead>\n",
       "  <tbody>\n",
       "    <tr>\n",
       "      <th>0</th>\n",
       "      <td>0</td>\n",
       "      <td>Summer</td>\n",
       "      <td>New Zealand</td>\n",
       "      <td>New Zealand</td>\n",
       "      <td>Wellington</td>\n",
       "      <td>No</td>\n",
       "      <td>Yes</td>\n",
       "      <td>bouncy</td>\n",
       "      <td>Yes</td>\n",
       "      <td>No</td>\n",
       "      <td>No</td>\n",
       "    </tr>\n",
       "    <tr>\n",
       "      <th>1</th>\n",
       "      <td>0</td>\n",
       "      <td>Summer</td>\n",
       "      <td>New Zealand</td>\n",
       "      <td>South Africa</td>\n",
       "      <td>Queenstown</td>\n",
       "      <td>No</td>\n",
       "      <td>No</td>\n",
       "      <td>bouncy</td>\n",
       "      <td>Yes</td>\n",
       "      <td>No</td>\n",
       "      <td>No</td>\n",
       "    </tr>\n",
       "    <tr>\n",
       "      <th>2</th>\n",
       "      <td>0</td>\n",
       "      <td>Summer</td>\n",
       "      <td>New Zealand</td>\n",
       "      <td>New Zealand</td>\n",
       "      <td>Christchurch</td>\n",
       "      <td>No</td>\n",
       "      <td>Yes</td>\n",
       "      <td>bouncy</td>\n",
       "      <td>Yes</td>\n",
       "      <td>No</td>\n",
       "      <td>Yes</td>\n",
       "    </tr>\n",
       "    <tr>\n",
       "      <th>3</th>\n",
       "      <td>1</td>\n",
       "      <td>Summer</td>\n",
       "      <td>New Zealand</td>\n",
       "      <td>New Zealand</td>\n",
       "      <td>Napier</td>\n",
       "      <td>No</td>\n",
       "      <td>Yes</td>\n",
       "      <td>bouncy</td>\n",
       "      <td>No</td>\n",
       "      <td>No</td>\n",
       "      <td>Yes</td>\n",
       "    </tr>\n",
       "    <tr>\n",
       "      <th>4</th>\n",
       "      <td>2</td>\n",
       "      <td>Summer</td>\n",
       "      <td>New Zealand</td>\n",
       "      <td>New Zealand</td>\n",
       "      <td>Hamilton</td>\n",
       "      <td>No</td>\n",
       "      <td>Yes</td>\n",
       "      <td>bouncy</td>\n",
       "      <td>Yes</td>\n",
       "      <td>No</td>\n",
       "      <td>Yes</td>\n",
       "    </tr>\n",
       "  </tbody>\n",
       "</table>\n",
       "</div>"
      ],
      "text/plain": [
       "   ConsecutiveWins  Season Opposition_Others       Country        Ground  \\\n",
       "0                0  Summer       New Zealand   New Zealand    Wellington   \n",
       "1                0  Summer       New Zealand  South Africa    Queenstown   \n",
       "2                0  Summer       New Zealand   New Zealand  Christchurch   \n",
       "3                1  Summer       New Zealand   New Zealand        Napier   \n",
       "4                2  Summer       New Zealand   New Zealand      Hamilton   \n",
       "\n",
       "  Home_Ground Day_Night PitchReport BattingFirst Combination Changed  Pak_Win  \n",
       "0          No       Yes      bouncy          Yes                   No      No  \n",
       "1          No        No      bouncy          Yes                   No      No  \n",
       "2          No       Yes      bouncy          Yes                   No     Yes  \n",
       "3          No       Yes      bouncy           No                   No     Yes  \n",
       "4          No       Yes      bouncy          Yes                   No     Yes  "
      ]
     },
     "execution_count": 3,
     "metadata": {},
     "output_type": "execute_result"
    }
   ],
   "source": [
    "ds.head()"
   ]
  },
  {
   "cell_type": "code",
   "execution_count": 4,
   "metadata": {},
   "outputs": [
    {
     "name": "stdout",
     "output_type": "stream",
     "text": [
      "<class 'pandas.core.frame.DataFrame'>\n",
      "RangeIndex: 95 entries, 0 to 94\n",
      "Data columns (total 11 columns):\n",
      "ConsecutiveWins         95 non-null int64\n",
      "Season                  94 non-null object\n",
      "Opposition_Others       94 non-null object\n",
      "Country                 95 non-null object\n",
      "Ground                  95 non-null object\n",
      "Home_Ground             94 non-null object\n",
      "Day_Night               95 non-null object\n",
      "PitchReport             95 non-null object\n",
      "BattingFirst            94 non-null object\n",
      "Combination Changed     12 non-null object\n",
      "Pak_Win                 94 non-null object\n",
      "dtypes: int64(1), object(10)\n",
      "memory usage: 8.2+ KB\n"
     ]
    }
   ],
   "source": [
    "ds.info()"
   ]
  },
  {
   "cell_type": "code",
   "execution_count": 5,
   "metadata": {},
   "outputs": [],
   "source": [
    "ds['ConsecutiveWins']=ds['ConsecutiveWins'].astype(float)"
   ]
  },
  {
   "cell_type": "code",
   "execution_count": 6,
   "metadata": {},
   "outputs": [
    {
     "name": "stdout",
     "output_type": "stream",
     "text": [
      "<class 'pandas.core.frame.DataFrame'>\n",
      "RangeIndex: 95 entries, 0 to 94\n",
      "Data columns (total 11 columns):\n",
      "ConsecutiveWins         95 non-null float64\n",
      "Season                  94 non-null object\n",
      "Opposition_Others       94 non-null object\n",
      "Country                 95 non-null object\n",
      "Ground                  95 non-null object\n",
      "Home_Ground             94 non-null object\n",
      "Day_Night               95 non-null object\n",
      "PitchReport             95 non-null object\n",
      "BattingFirst            94 non-null object\n",
      "Combination Changed     12 non-null object\n",
      "Pak_Win                 94 non-null object\n",
      "dtypes: float64(1), object(10)\n",
      "memory usage: 8.2+ KB\n"
     ]
    }
   ],
   "source": [
    "ds.info()"
   ]
  },
  {
   "cell_type": "code",
   "execution_count": 7,
   "metadata": {},
   "outputs": [],
   "source": [
    "data=pd.read_csv('Crude Oil WTI Futures Historical Data.csv')"
   ]
  },
  {
   "cell_type": "code",
   "execution_count": 8,
   "metadata": {},
   "outputs": [
    {
     "data": {
      "text/html": [
       "<div>\n",
       "<style scoped>\n",
       "    .dataframe tbody tr th:only-of-type {\n",
       "        vertical-align: middle;\n",
       "    }\n",
       "\n",
       "    .dataframe tbody tr th {\n",
       "        vertical-align: top;\n",
       "    }\n",
       "\n",
       "    .dataframe thead th {\n",
       "        text-align: right;\n",
       "    }\n",
       "</style>\n",
       "<table border=\"1\" class=\"dataframe\">\n",
       "  <thead>\n",
       "    <tr style=\"text-align: right;\">\n",
       "      <th></th>\n",
       "      <th>Date</th>\n",
       "      <th>Price</th>\n",
       "      <th>Open</th>\n",
       "      <th>High</th>\n",
       "      <th>Low</th>\n",
       "      <th>Vol.</th>\n",
       "      <th>Change %</th>\n",
       "    </tr>\n",
       "  </thead>\n",
       "  <tbody>\n",
       "    <tr>\n",
       "      <th>0</th>\n",
       "      <td>28-Feb-20</td>\n",
       "      <td>44.76</td>\n",
       "      <td>46.49</td>\n",
       "      <td>47.03</td>\n",
       "      <td>43.85</td>\n",
       "      <td>1.10M</td>\n",
       "      <td>-4.95%</td>\n",
       "    </tr>\n",
       "    <tr>\n",
       "      <th>1</th>\n",
       "      <td>27-Feb-20</td>\n",
       "      <td>47.09</td>\n",
       "      <td>48.63</td>\n",
       "      <td>48.78</td>\n",
       "      <td>45.88</td>\n",
       "      <td>1.01M</td>\n",
       "      <td>-3.37%</td>\n",
       "    </tr>\n",
       "    <tr>\n",
       "      <th>2</th>\n",
       "      <td>26-Feb-20</td>\n",
       "      <td>48.73</td>\n",
       "      <td>50.08</td>\n",
       "      <td>50.44</td>\n",
       "      <td>48.30</td>\n",
       "      <td>884.48K</td>\n",
       "      <td>-2.34%</td>\n",
       "    </tr>\n",
       "    <tr>\n",
       "      <th>3</th>\n",
       "      <td>25-Feb-20</td>\n",
       "      <td>49.90</td>\n",
       "      <td>51.37</td>\n",
       "      <td>52.02</td>\n",
       "      <td>49.69</td>\n",
       "      <td>764.99K</td>\n",
       "      <td>-2.97%</td>\n",
       "    </tr>\n",
       "    <tr>\n",
       "      <th>4</th>\n",
       "      <td>24-Feb-20</td>\n",
       "      <td>51.43</td>\n",
       "      <td>52.60</td>\n",
       "      <td>52.64</td>\n",
       "      <td>50.45</td>\n",
       "      <td>765.52K</td>\n",
       "      <td>-3.65%</td>\n",
       "    </tr>\n",
       "  </tbody>\n",
       "</table>\n",
       "</div>"
      ],
      "text/plain": [
       "        Date  Price   Open   High    Low     Vol. Change %\n",
       "0  28-Feb-20  44.76  46.49  47.03  43.85    1.10M   -4.95%\n",
       "1  27-Feb-20  47.09  48.63  48.78  45.88    1.01M   -3.37%\n",
       "2  26-Feb-20  48.73  50.08  50.44  48.30  884.48K   -2.34%\n",
       "3  25-Feb-20  49.90  51.37  52.02  49.69  764.99K   -2.97%\n",
       "4  24-Feb-20  51.43  52.60  52.64  50.45  765.52K   -3.65%"
      ]
     },
     "execution_count": 8,
     "metadata": {},
     "output_type": "execute_result"
    }
   ],
   "source": [
    "data.head()"
   ]
  },
  {
   "cell_type": "code",
   "execution_count": 9,
   "metadata": {},
   "outputs": [
    {
     "name": "stdout",
     "output_type": "stream",
     "text": [
      "<class 'pandas.core.frame.DataFrame'>\n",
      "RangeIndex: 4123 entries, 0 to 4122\n",
      "Data columns (total 7 columns):\n",
      "Date        4123 non-null object\n",
      "Price       4123 non-null float64\n",
      "Open        4123 non-null float64\n",
      "High        4123 non-null float64\n",
      "Low         4123 non-null float64\n",
      "Vol.        4123 non-null object\n",
      "Change %    4123 non-null object\n",
      "dtypes: float64(4), object(3)\n",
      "memory usage: 225.6+ KB\n"
     ]
    }
   ],
   "source": [
    "data.info()"
   ]
  },
  {
   "cell_type": "code",
   "execution_count": 10,
   "metadata": {},
   "outputs": [],
   "source": [
    "data['Change %']=data['Change %'].str.replace('%',' ').astype(float)"
   ]
  },
  {
   "cell_type": "code",
   "execution_count": 11,
   "metadata": {},
   "outputs": [
    {
     "data": {
      "text/html": [
       "<div>\n",
       "<style scoped>\n",
       "    .dataframe tbody tr th:only-of-type {\n",
       "        vertical-align: middle;\n",
       "    }\n",
       "\n",
       "    .dataframe tbody tr th {\n",
       "        vertical-align: top;\n",
       "    }\n",
       "\n",
       "    .dataframe thead th {\n",
       "        text-align: right;\n",
       "    }\n",
       "</style>\n",
       "<table border=\"1\" class=\"dataframe\">\n",
       "  <thead>\n",
       "    <tr style=\"text-align: right;\">\n",
       "      <th></th>\n",
       "      <th>Date</th>\n",
       "      <th>Price</th>\n",
       "      <th>Open</th>\n",
       "      <th>High</th>\n",
       "      <th>Low</th>\n",
       "      <th>Vol.</th>\n",
       "      <th>Change %</th>\n",
       "    </tr>\n",
       "  </thead>\n",
       "  <tbody>\n",
       "    <tr>\n",
       "      <th>0</th>\n",
       "      <td>28-Feb-20</td>\n",
       "      <td>44.76</td>\n",
       "      <td>46.49</td>\n",
       "      <td>47.03</td>\n",
       "      <td>43.85</td>\n",
       "      <td>1.10M</td>\n",
       "      <td>-4.95</td>\n",
       "    </tr>\n",
       "    <tr>\n",
       "      <th>1</th>\n",
       "      <td>27-Feb-20</td>\n",
       "      <td>47.09</td>\n",
       "      <td>48.63</td>\n",
       "      <td>48.78</td>\n",
       "      <td>45.88</td>\n",
       "      <td>1.01M</td>\n",
       "      <td>-3.37</td>\n",
       "    </tr>\n",
       "    <tr>\n",
       "      <th>2</th>\n",
       "      <td>26-Feb-20</td>\n",
       "      <td>48.73</td>\n",
       "      <td>50.08</td>\n",
       "      <td>50.44</td>\n",
       "      <td>48.30</td>\n",
       "      <td>884.48K</td>\n",
       "      <td>-2.34</td>\n",
       "    </tr>\n",
       "    <tr>\n",
       "      <th>3</th>\n",
       "      <td>25-Feb-20</td>\n",
       "      <td>49.90</td>\n",
       "      <td>51.37</td>\n",
       "      <td>52.02</td>\n",
       "      <td>49.69</td>\n",
       "      <td>764.99K</td>\n",
       "      <td>-2.97</td>\n",
       "    </tr>\n",
       "    <tr>\n",
       "      <th>4</th>\n",
       "      <td>24-Feb-20</td>\n",
       "      <td>51.43</td>\n",
       "      <td>52.60</td>\n",
       "      <td>52.64</td>\n",
       "      <td>50.45</td>\n",
       "      <td>765.52K</td>\n",
       "      <td>-3.65</td>\n",
       "    </tr>\n",
       "  </tbody>\n",
       "</table>\n",
       "</div>"
      ],
      "text/plain": [
       "        Date  Price   Open   High    Low     Vol.  Change %\n",
       "0  28-Feb-20  44.76  46.49  47.03  43.85    1.10M     -4.95\n",
       "1  27-Feb-20  47.09  48.63  48.78  45.88    1.01M     -3.37\n",
       "2  26-Feb-20  48.73  50.08  50.44  48.30  884.48K     -2.34\n",
       "3  25-Feb-20  49.90  51.37  52.02  49.69  764.99K     -2.97\n",
       "4  24-Feb-20  51.43  52.60  52.64  50.45  765.52K     -3.65"
      ]
     },
     "execution_count": 11,
     "metadata": {},
     "output_type": "execute_result"
    }
   ],
   "source": [
    "data.head()"
   ]
  },
  {
   "cell_type": "code",
   "execution_count": 12,
   "metadata": {},
   "outputs": [
    {
     "name": "stdout",
     "output_type": "stream",
     "text": [
      "<class 'pandas.core.frame.DataFrame'>\n",
      "RangeIndex: 4123 entries, 0 to 4122\n",
      "Data columns (total 7 columns):\n",
      "Date        4123 non-null object\n",
      "Price       4123 non-null float64\n",
      "Open        4123 non-null float64\n",
      "High        4123 non-null float64\n",
      "Low         4123 non-null float64\n",
      "Vol.        4123 non-null object\n",
      "Change %    4123 non-null float64\n",
      "dtypes: float64(5), object(2)\n",
      "memory usage: 225.6+ KB\n"
     ]
    }
   ],
   "source": [
    "data.info()"
   ]
  },
  {
   "cell_type": "code",
   "execution_count": 13,
   "metadata": {},
   "outputs": [
    {
     "data": {
      "text/plain": [
       "139.0600000000003"
      ]
     },
     "execution_count": 13,
     "metadata": {},
     "output_type": "execute_result"
    }
   ],
   "source": [
    "sum(data['Change %'])"
   ]
  },
  {
   "cell_type": "code",
   "execution_count": 14,
   "metadata": {},
   "outputs": [],
   "source": [
    "ds['Day_Night']=ds['Day_Night'].str.contains('Yes').astype(int)"
   ]
  },
  {
   "cell_type": "code",
   "execution_count": 16,
   "metadata": {},
   "outputs": [
    {
     "data": {
      "text/html": [
       "<div>\n",
       "<style scoped>\n",
       "    .dataframe tbody tr th:only-of-type {\n",
       "        vertical-align: middle;\n",
       "    }\n",
       "\n",
       "    .dataframe tbody tr th {\n",
       "        vertical-align: top;\n",
       "    }\n",
       "\n",
       "    .dataframe thead th {\n",
       "        text-align: right;\n",
       "    }\n",
       "</style>\n",
       "<table border=\"1\" class=\"dataframe\">\n",
       "  <thead>\n",
       "    <tr style=\"text-align: right;\">\n",
       "      <th></th>\n",
       "      <th>ConsecutiveWins</th>\n",
       "      <th>Season</th>\n",
       "      <th>Opposition_Others</th>\n",
       "      <th>Country</th>\n",
       "      <th>Ground</th>\n",
       "      <th>Home_Ground</th>\n",
       "      <th>Day_Night</th>\n",
       "      <th>PitchReport</th>\n",
       "      <th>BattingFirst</th>\n",
       "      <th>Combination Changed</th>\n",
       "      <th>Pak_Win</th>\n",
       "    </tr>\n",
       "  </thead>\n",
       "  <tbody>\n",
       "    <tr>\n",
       "      <th>0</th>\n",
       "      <td>0.0</td>\n",
       "      <td>Summer</td>\n",
       "      <td>New Zealand</td>\n",
       "      <td>New Zealand</td>\n",
       "      <td>Wellington</td>\n",
       "      <td>No</td>\n",
       "      <td>1</td>\n",
       "      <td>bouncy</td>\n",
       "      <td>Yes</td>\n",
       "      <td>No</td>\n",
       "      <td>No</td>\n",
       "    </tr>\n",
       "    <tr>\n",
       "      <th>1</th>\n",
       "      <td>0.0</td>\n",
       "      <td>Summer</td>\n",
       "      <td>New Zealand</td>\n",
       "      <td>South Africa</td>\n",
       "      <td>Queenstown</td>\n",
       "      <td>No</td>\n",
       "      <td>0</td>\n",
       "      <td>bouncy</td>\n",
       "      <td>Yes</td>\n",
       "      <td>No</td>\n",
       "      <td>No</td>\n",
       "    </tr>\n",
       "    <tr>\n",
       "      <th>2</th>\n",
       "      <td>0.0</td>\n",
       "      <td>Summer</td>\n",
       "      <td>New Zealand</td>\n",
       "      <td>New Zealand</td>\n",
       "      <td>Christchurch</td>\n",
       "      <td>No</td>\n",
       "      <td>1</td>\n",
       "      <td>bouncy</td>\n",
       "      <td>Yes</td>\n",
       "      <td>No</td>\n",
       "      <td>Yes</td>\n",
       "    </tr>\n",
       "    <tr>\n",
       "      <th>3</th>\n",
       "      <td>1.0</td>\n",
       "      <td>Summer</td>\n",
       "      <td>New Zealand</td>\n",
       "      <td>New Zealand</td>\n",
       "      <td>Napier</td>\n",
       "      <td>No</td>\n",
       "      <td>1</td>\n",
       "      <td>bouncy</td>\n",
       "      <td>No</td>\n",
       "      <td>No</td>\n",
       "      <td>Yes</td>\n",
       "    </tr>\n",
       "    <tr>\n",
       "      <th>4</th>\n",
       "      <td>2.0</td>\n",
       "      <td>Summer</td>\n",
       "      <td>New Zealand</td>\n",
       "      <td>New Zealand</td>\n",
       "      <td>Hamilton</td>\n",
       "      <td>No</td>\n",
       "      <td>1</td>\n",
       "      <td>bouncy</td>\n",
       "      <td>Yes</td>\n",
       "      <td>No</td>\n",
       "      <td>Yes</td>\n",
       "    </tr>\n",
       "  </tbody>\n",
       "</table>\n",
       "</div>"
      ],
      "text/plain": [
       "   ConsecutiveWins  Season Opposition_Others       Country        Ground  \\\n",
       "0              0.0  Summer       New Zealand   New Zealand    Wellington   \n",
       "1              0.0  Summer       New Zealand  South Africa    Queenstown   \n",
       "2              0.0  Summer       New Zealand   New Zealand  Christchurch   \n",
       "3              1.0  Summer       New Zealand   New Zealand        Napier   \n",
       "4              2.0  Summer       New Zealand   New Zealand      Hamilton   \n",
       "\n",
       "  Home_Ground  Day_Night PitchReport BattingFirst Combination Changed  Pak_Win  \n",
       "0          No          1      bouncy          Yes                   No      No  \n",
       "1          No          0      bouncy          Yes                   No      No  \n",
       "2          No          1      bouncy          Yes                   No     Yes  \n",
       "3          No          1      bouncy           No                   No     Yes  \n",
       "4          No          1      bouncy          Yes                   No     Yes  "
      ]
     },
     "execution_count": 16,
     "metadata": {},
     "output_type": "execute_result"
    }
   ],
   "source": [
    "ds.head()"
   ]
  },
  {
   "cell_type": "code",
   "execution_count": 17,
   "metadata": {},
   "outputs": [
    {
     "name": "stdout",
     "output_type": "stream",
     "text": [
      "<class 'pandas.core.frame.DataFrame'>\n",
      "RangeIndex: 95 entries, 0 to 94\n",
      "Data columns (total 11 columns):\n",
      "ConsecutiveWins         95 non-null float64\n",
      "Season                  94 non-null object\n",
      "Opposition_Others       94 non-null object\n",
      "Country                 95 non-null object\n",
      "Ground                  95 non-null object\n",
      "Home_Ground             94 non-null object\n",
      "Day_Night               95 non-null int32\n",
      "PitchReport             95 non-null object\n",
      "BattingFirst            94 non-null object\n",
      "Combination Changed     12 non-null object\n",
      "Pak_Win                 94 non-null object\n",
      "dtypes: float64(1), int32(1), object(9)\n",
      "memory usage: 7.9+ KB\n"
     ]
    }
   ],
   "source": [
    "ds.info()"
   ]
  },
  {
   "cell_type": "code",
   "execution_count": null,
   "metadata": {},
   "outputs": [],
   "source": []
  }
 ],
 "metadata": {
  "kernelspec": {
   "display_name": "Python 3",
   "language": "python",
   "name": "python3"
  },
  "language_info": {
   "codemirror_mode": {
    "name": "ipython",
    "version": 3
   },
   "file_extension": ".py",
   "mimetype": "text/x-python",
   "name": "python",
   "nbconvert_exporter": "python",
   "pygments_lexer": "ipython3",
   "version": "3.6.5"
  }
 },
 "nbformat": 4,
 "nbformat_minor": 2
}
